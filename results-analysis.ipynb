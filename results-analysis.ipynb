{
 "cells": [
  {
   "cell_type": "code",
   "execution_count": 4,
   "metadata": {},
   "outputs": [],
   "source": [
    "import pandas as pd\n",
    "import matplotlib.pyplot as plt"
   ]
  },
  {
   "cell_type": "code",
   "execution_count": 14,
   "metadata": {},
   "outputs": [],
   "source": [
    "def read_results_df(csv_path, drop_duplicates=True):\n",
    "    df = pd.read_csv(csv_path)\n",
    "    if drop_duplicates:\n",
    "        df = df.drop_duplicates(subset='DataFile')\n",
    "    return df\n",
    "\n",
    "def select_random_subsets(df, prefix1_count, prefix2_count):\n",
    "    # Filter rows based on prefixes\n",
    "    df_prefix1 = df[df['DataFile'].str.startswith('./BPPLIB/Scholl_CSP_dat/Scholl_1')]\n",
    "    df_prefix2 = df[df['DataFile'].str.startswith('./BPPLIB/Scholl_CSP_dat/Scholl_2')]\n",
    "\n",
    "    # Randomly sample rows from each filtered DataFrame\n",
    "    df_sampled_prefix1 = df_prefix1.sample(n=prefix1_count, random_state=1)\n",
    "    df_sampled_prefix2 = df_prefix2.sample(n=prefix2_count, random_state=1)\n",
    "\n",
    "    # Combine the sampled rows into one DataFrame\n",
    "    return pd.concat([df_sampled_prefix1, df_sampled_prefix2])"
   ]
  },
  {
   "cell_type": "code",
   "execution_count": 11,
   "metadata": {},
   "outputs": [],
   "source": [
    "scholl_csv = 'scholl-results.csv'\n",
    "scholl_df = read_results_df(scholl_csv, drop_duplicates=True)"
   ]
  },
  {
   "cell_type": "code",
   "execution_count": 13,
   "metadata": {},
   "outputs": [
    {
     "name": "stdout",
     "output_type": "stream",
     "text": [
      "173\n",
      "55\n"
     ]
    }
   ],
   "source": [
    "scholl_1_prefix = './BPPLIB/Scholl_CSP_dat/Scholl_1'\n",
    "scholl_2_prefix = './BPPLIB/Scholl_CSP_dat/Scholl_2'\n",
    "\n",
    "print(scholl_df['DataFile'].str.startswith(scholl_1_prefix).sum())\n",
    "print(scholl_df['DataFile'].str.startswith(scholl_2_prefix).sum())"
   ]
  },
  {
   "cell_type": "code",
   "execution_count": 21,
   "metadata": {},
   "outputs": [
    {
     "name": "stdout",
     "output_type": "stream",
     "text": [
      "170\n",
      "50\n"
     ]
    },
    {
     "data": {
      "text/html": [
       "<div>\n",
       "<style scoped>\n",
       "    .dataframe tbody tr th:only-of-type {\n",
       "        vertical-align: middle;\n",
       "    }\n",
       "\n",
       "    .dataframe tbody tr th {\n",
       "        vertical-align: top;\n",
       "    }\n",
       "\n",
       "    .dataframe thead th {\n",
       "        text-align: right;\n",
       "    }\n",
       "</style>\n",
       "<table border=\"1\" class=\"dataframe\">\n",
       "  <thead>\n",
       "    <tr style=\"text-align: right;\">\n",
       "      <th></th>\n",
       "      <th>DataFile</th>\n",
       "      <th>ObjectiveValue</th>\n",
       "    </tr>\n",
       "  </thead>\n",
       "  <tbody>\n",
       "    <tr>\n",
       "      <th>289</th>\n",
       "      <td>./BPPLIB/Scholl_CSP_dat/Scholl_1/N2C3W4_B.dat</td>\n",
       "      <td>46.0</td>\n",
       "    </tr>\n",
       "    <tr>\n",
       "      <th>117</th>\n",
       "      <td>./BPPLIB/Scholl_CSP_dat/Scholl_1/N2C3W4_H.dat</td>\n",
       "      <td>48.0</td>\n",
       "    </tr>\n",
       "    <tr>\n",
       "      <th>36</th>\n",
       "      <td>./BPPLIB/Scholl_CSP_dat/Scholl_1/N4C1W2_M.dat</td>\n",
       "      <td>330.0</td>\n",
       "    </tr>\n",
       "    <tr>\n",
       "      <th>21</th>\n",
       "      <td>./BPPLIB/Scholl_CSP_dat/Scholl_1/N4C2W2_O.dat</td>\n",
       "      <td>253.0</td>\n",
       "    </tr>\n",
       "    <tr>\n",
       "      <th>187</th>\n",
       "      <td>./BPPLIB/Scholl_CSP_dat/Scholl_1/N4C2W2_N.dat</td>\n",
       "      <td>265.0</td>\n",
       "    </tr>\n",
       "    <tr>\n",
       "      <th>...</th>\n",
       "      <td>...</td>\n",
       "      <td>...</td>\n",
       "    </tr>\n",
       "    <tr>\n",
       "      <th>246</th>\n",
       "      <td>./BPPLIB/Scholl_CSP_dat/Scholl_2/N3W1B1R7.dat</td>\n",
       "      <td>80.0</td>\n",
       "    </tr>\n",
       "    <tr>\n",
       "      <th>208</th>\n",
       "      <td>./BPPLIB/Scholl_CSP_dat/Scholl_2/N1W2B2R4.dat</td>\n",
       "      <td>17.0</td>\n",
       "    </tr>\n",
       "    <tr>\n",
       "      <th>225</th>\n",
       "      <td>./BPPLIB/Scholl_CSP_dat/Scholl_2/N2W1B2R2.dat</td>\n",
       "      <td>37.0</td>\n",
       "    </tr>\n",
       "    <tr>\n",
       "      <th>299</th>\n",
       "      <td>./BPPLIB/Scholl_CSP_dat/Scholl_2/N4W1B1R9.dat</td>\n",
       "      <td>168.0</td>\n",
       "    </tr>\n",
       "    <tr>\n",
       "      <th>292</th>\n",
       "      <td>./BPPLIB/Scholl_CSP_dat/Scholl_2/N1W1B2R9.dat</td>\n",
       "      <td>20.0</td>\n",
       "    </tr>\n",
       "  </tbody>\n",
       "</table>\n",
       "<p>220 rows × 2 columns</p>\n",
       "</div>"
      ],
      "text/plain": [
       "                                          DataFile  ObjectiveValue\n",
       "289  ./BPPLIB/Scholl_CSP_dat/Scholl_1/N2C3W4_B.dat            46.0\n",
       "117  ./BPPLIB/Scholl_CSP_dat/Scholl_1/N2C3W4_H.dat            48.0\n",
       "36   ./BPPLIB/Scholl_CSP_dat/Scholl_1/N4C1W2_M.dat           330.0\n",
       "21   ./BPPLIB/Scholl_CSP_dat/Scholl_1/N4C2W2_O.dat           253.0\n",
       "187  ./BPPLIB/Scholl_CSP_dat/Scholl_1/N4C2W2_N.dat           265.0\n",
       "..                                             ...             ...\n",
       "246  ./BPPLIB/Scholl_CSP_dat/Scholl_2/N3W1B1R7.dat            80.0\n",
       "208  ./BPPLIB/Scholl_CSP_dat/Scholl_2/N1W2B2R4.dat            17.0\n",
       "225  ./BPPLIB/Scholl_CSP_dat/Scholl_2/N2W1B2R2.dat            37.0\n",
       "299  ./BPPLIB/Scholl_CSP_dat/Scholl_2/N4W1B1R9.dat           168.0\n",
       "292  ./BPPLIB/Scholl_CSP_dat/Scholl_2/N1W1B2R9.dat            20.0\n",
       "\n",
       "[220 rows x 2 columns]"
      ]
     },
     "execution_count": 21,
     "metadata": {},
     "output_type": "execute_result"
    }
   ],
   "source": [
    "scholl_df = select_random_subsets(scholl_df, 170, 50)\n",
    "print(scholl_df['DataFile'].str.startswith(scholl_1_prefix).sum())\n",
    "print(scholl_df['DataFile'].str.startswith(scholl_2_prefix).sum())\n",
    "scholl_df"
   ]
  },
  {
   "cell_type": "code",
   "execution_count": null,
   "metadata": {},
   "outputs": [],
   "source": []
  }
 ],
 "metadata": {
  "kernelspec": {
   "display_name": "myenv",
   "language": "python",
   "name": "python3"
  },
  "language_info": {
   "codemirror_mode": {
    "name": "ipython",
    "version": 3
   },
   "file_extension": ".py",
   "mimetype": "text/x-python",
   "name": "python",
   "nbconvert_exporter": "python",
   "pygments_lexer": "ipython3",
   "version": "3.9.6"
  }
 },
 "nbformat": 4,
 "nbformat_minor": 2
}
