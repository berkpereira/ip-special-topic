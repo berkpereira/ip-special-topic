{
 "cells": [
  {
   "cell_type": "code",
   "execution_count": 372,
   "metadata": {},
   "outputs": [],
   "source": [
    "import pandas as pd\n",
    "import matplotlib.pyplot as plt\n",
    "import seaborn as sns\n",
    "oxford_blue_hex = '#002147'\n",
    "page_width_in = 5.7"
   ]
  },
  {
   "cell_type": "code",
   "execution_count": 359,
   "metadata": {},
   "outputs": [],
   "source": [
    "# Set the global font family to Helvetica\n",
    "plt.rcParams['font.family'] = 'Helvetica'\n",
    "\n",
    "# If you have a specific font file for Helvetica, use the following:\n",
    "plt.rcParams['font.sans-serif'] = ['Helvetica', 'Arial', 'sans-serif']\n",
    "\n",
    "# Set the global font size\n",
    "plt.rcParams['font.size'] = 10  # Change 12 to your desired font size\n",
    "\n",
    "# Additional font settings can be set similarly\n",
    "plt.rcParams['font.weight'] = 'normal'  # 'normal', 'bold', etc.\n",
    "plt.rcParams['axes.labelweight'] = 'bold'  # Set weight for axis labels\n",
    "plt.rcParams['axes.titlesize'] = 12  # Font size for titles\n",
    "plt.rcParams['axes.labelsize'] = 10  # Font size for axis labels"
   ]
  },
  {
   "cell_type": "markdown",
   "metadata": {},
   "source": [
    "# Importing and formatting\n",
    "\n",
    "The first section of this notebook is dedicated to importing the results and true solutions data from the BPPLIB library (https://site.unibo.it/operations-research/en/research/bpplib-a-bin-packing-problem-library#:~:text=The%20BPPLIB%20is%20a%20collection,Delorme%2C%20M.) and making formatting consistent across the pandas dataframes."
   ]
  },
  {
   "cell_type": "code",
   "execution_count": 360,
   "metadata": {},
   "outputs": [],
   "source": [
    "def read_results_df(csv_path, drop_duplicates=True):\n",
    "    df = pd.read_csv(csv_path)\n",
    "    if drop_duplicates:\n",
    "        df = df.drop_duplicates(subset='DataFile')\n",
    "    return df\n",
    "\n",
    "def select_random_subsets(df, prefix1_count, prefix2_count):\n",
    "    # Filter rows based on prefixes\n",
    "    df_prefix1 = df[df['DataFile'].str.startswith('./BPPLIB/Scholl_CSP_dat/Scholl_1')]\n",
    "    df_prefix2 = df[df['DataFile'].str.startswith('./BPPLIB/Scholl_CSP_dat/Scholl_2')]\n",
    "\n",
    "    # Randomly sample rows from each filtered DataFrame\n",
    "    df_sampled_prefix1 = df_prefix1.sample(n=prefix1_count, random_state=1)\n",
    "    df_sampled_prefix2 = df_prefix2.sample(n=prefix2_count, random_state=42)\n",
    "\n",
    "    # Combine the sampled rows into one DataFrame\n",
    "    return pd.concat([df_sampled_prefix1, df_sampled_prefix2])\n",
    "\n",
    "def format_true_solutions_df(true_solutions_path):\n",
    "    df = pd.read_csv(true_solutions_path)\n",
    "    df.drop(columns=['Best LB', 'Best UB', 'Status'], inplace=True)\n",
    "    df.rename(columns={'Name': 'DataFile'}, inplace=True)\n",
    "    df = df[~df['DataFile'].str.startswith('HARD')]\n",
    "    def transform_datafile_string(value):\n",
    "        if value[2] == 'C':\n",
    "            return f\"./BPPLIB/Scholl_CSP_dat/Scholl_1/{value.replace('.txt', '.dat')}\"\n",
    "        elif value[2] == 'W':\n",
    "            return f\"./BPPLIB/Scholl_CSP_dat/Scholl_2/{value.replace('.txt', '.dat')}\"\n",
    "        else:\n",
    "            raise Exception\n",
    "    df['DataFile'] = df['DataFile'].apply(transform_datafile_string)\n",
    "\n",
    "    return df\n",
    "\n",
    "# Keep only those true solutions for problems we have attempted\n",
    "def drop_unused_problems(results_df, true_solutions_df):\n",
    "    filtered_true_solutions_df = true_solutions_df[true_solutions_df['DataFile'].isin(results_df['DataFile'])]\n",
    "    return filtered_true_solutions_df\n",
    "\n",
    "# A function to merge the two dataframes and make things tidier\n",
    "def merge_df(results_df, true_solutions_df):\n",
    "    df = pd.merge(results_df, true_solutions_df, on='DataFile')\n",
    "    df.rename(columns={'ObjectiveValue': 'ResultObjective', 'Solution': 'OptimalObjective'}, inplace=True)\n",
    "    return df"
   ]
  },
  {
   "cell_type": "code",
   "execution_count": 361,
   "metadata": {},
   "outputs": [],
   "source": [
    "scholl_csv = 'scholl-results.csv'\n",
    "results_df = read_results_df(scholl_csv, drop_duplicates=True)"
   ]
  },
  {
   "cell_type": "code",
   "execution_count": 362,
   "metadata": {},
   "outputs": [
    {
     "name": "stdout",
     "output_type": "stream",
     "text": [
      "173\n",
      "55\n"
     ]
    }
   ],
   "source": [
    "scholl_1_prefix = './BPPLIB/Scholl_CSP_dat/Scholl_1'\n",
    "scholl_2_prefix = './BPPLIB/Scholl_CSP_dat/Scholl_2'\n",
    "\n",
    "print(results_df['DataFile'].str.startswith(scholl_1_prefix).sum())\n",
    "print(results_df['DataFile'].str.startswith(scholl_2_prefix).sum())"
   ]
  },
  {
   "cell_type": "code",
   "execution_count": 363,
   "metadata": {},
   "outputs": [
    {
     "name": "stdout",
     "output_type": "stream",
     "text": [
      "170\n",
      "50\n"
     ]
    },
    {
     "data": {
      "text/html": [
       "<div>\n",
       "<style scoped>\n",
       "    .dataframe tbody tr th:only-of-type {\n",
       "        vertical-align: middle;\n",
       "    }\n",
       "\n",
       "    .dataframe tbody tr th {\n",
       "        vertical-align: top;\n",
       "    }\n",
       "\n",
       "    .dataframe thead th {\n",
       "        text-align: right;\n",
       "    }\n",
       "</style>\n",
       "<table border=\"1\" class=\"dataframe\">\n",
       "  <thead>\n",
       "    <tr style=\"text-align: right;\">\n",
       "      <th></th>\n",
       "      <th>DataFile</th>\n",
       "      <th>ObjectiveValue</th>\n",
       "    </tr>\n",
       "  </thead>\n",
       "  <tbody>\n",
       "    <tr>\n",
       "      <th>107</th>\n",
       "      <td>./BPPLIB/Scholl_CSP_dat/Scholl_1/N2C2W4_R.dat</td>\n",
       "      <td>57.0</td>\n",
       "    </tr>\n",
       "    <tr>\n",
       "      <th>142</th>\n",
       "      <td>./BPPLIB/Scholl_CSP_dat/Scholl_1/N1C3W2_B.dat</td>\n",
       "      <td>20.0</td>\n",
       "    </tr>\n",
       "    <tr>\n",
       "      <th>19</th>\n",
       "      <td>./BPPLIB/Scholl_CSP_dat/Scholl_1/N1C1W4_A.dat</td>\n",
       "      <td>35.0</td>\n",
       "    </tr>\n",
       "    <tr>\n",
       "      <th>76</th>\n",
       "      <td>./BPPLIB/Scholl_CSP_dat/Scholl_1/N4C1W2_P.dat</td>\n",
       "      <td>317.0</td>\n",
       "    </tr>\n",
       "    <tr>\n",
       "      <th>53</th>\n",
       "      <td>./BPPLIB/Scholl_CSP_dat/Scholl_1/N1C2W4_L.dat</td>\n",
       "      <td>31.0</td>\n",
       "    </tr>\n",
       "    <tr>\n",
       "      <th>...</th>\n",
       "      <td>...</td>\n",
       "      <td>...</td>\n",
       "    </tr>\n",
       "    <tr>\n",
       "      <th>230</th>\n",
       "      <td>./BPPLIB/Scholl_CSP_dat/Scholl_2/N3W3B1R6.dat</td>\n",
       "      <td>38.0</td>\n",
       "    </tr>\n",
       "    <tr>\n",
       "      <th>226</th>\n",
       "      <td>./BPPLIB/Scholl_CSP_dat/Scholl_2/N1W1B3R7.dat</td>\n",
       "      <td>19.0</td>\n",
       "    </tr>\n",
       "    <tr>\n",
       "      <th>299</th>\n",
       "      <td>./BPPLIB/Scholl_CSP_dat/Scholl_2/N4W1B1R9.dat</td>\n",
       "      <td>168.0</td>\n",
       "    </tr>\n",
       "    <tr>\n",
       "      <th>228</th>\n",
       "      <td>./BPPLIB/Scholl_CSP_dat/Scholl_2/N4W3B1R2.dat</td>\n",
       "      <td>76.0</td>\n",
       "    </tr>\n",
       "    <tr>\n",
       "      <th>215</th>\n",
       "      <td>./BPPLIB/Scholl_CSP_dat/Scholl_2/N2W4B3R3.dat</td>\n",
       "      <td>42.0</td>\n",
       "    </tr>\n",
       "  </tbody>\n",
       "</table>\n",
       "<p>220 rows × 2 columns</p>\n",
       "</div>"
      ],
      "text/plain": [
       "                                          DataFile  ObjectiveValue\n",
       "107  ./BPPLIB/Scholl_CSP_dat/Scholl_1/N2C2W4_R.dat            57.0\n",
       "142  ./BPPLIB/Scholl_CSP_dat/Scholl_1/N1C3W2_B.dat            20.0\n",
       "19   ./BPPLIB/Scholl_CSP_dat/Scholl_1/N1C1W4_A.dat            35.0\n",
       "76   ./BPPLIB/Scholl_CSP_dat/Scholl_1/N4C1W2_P.dat           317.0\n",
       "53   ./BPPLIB/Scholl_CSP_dat/Scholl_1/N1C2W4_L.dat            31.0\n",
       "..                                             ...             ...\n",
       "230  ./BPPLIB/Scholl_CSP_dat/Scholl_2/N3W3B1R6.dat            38.0\n",
       "226  ./BPPLIB/Scholl_CSP_dat/Scholl_2/N1W1B3R7.dat            19.0\n",
       "299  ./BPPLIB/Scholl_CSP_dat/Scholl_2/N4W1B1R9.dat           168.0\n",
       "228  ./BPPLIB/Scholl_CSP_dat/Scholl_2/N4W3B1R2.dat            76.0\n",
       "215  ./BPPLIB/Scholl_CSP_dat/Scholl_2/N2W4B3R3.dat            42.0\n",
       "\n",
       "[220 rows x 2 columns]"
      ]
     },
     "execution_count": 363,
     "metadata": {},
     "output_type": "execute_result"
    }
   ],
   "source": [
    "results_df = select_random_subsets(results_df, 170, 50)\n",
    "print(results_df['DataFile'].str.startswith(scholl_1_prefix).sum())\n",
    "print(results_df['DataFile'].str.startswith(scholl_2_prefix).sum())\n",
    "results_df"
   ]
  },
  {
   "cell_type": "code",
   "execution_count": 364,
   "metadata": {},
   "outputs": [
    {
     "data": {
      "text/html": [
       "<div>\n",
       "<style scoped>\n",
       "    .dataframe tbody tr th:only-of-type {\n",
       "        vertical-align: middle;\n",
       "    }\n",
       "\n",
       "    .dataframe tbody tr th {\n",
       "        vertical-align: top;\n",
       "    }\n",
       "\n",
       "    .dataframe thead th {\n",
       "        text-align: right;\n",
       "    }\n",
       "</style>\n",
       "<table border=\"1\" class=\"dataframe\">\n",
       "  <thead>\n",
       "    <tr style=\"text-align: right;\">\n",
       "      <th></th>\n",
       "      <th>DataFile</th>\n",
       "      <th>Selected</th>\n",
       "      <th>Solution</th>\n",
       "    </tr>\n",
       "  </thead>\n",
       "  <tbody>\n",
       "    <tr>\n",
       "      <th>2</th>\n",
       "      <td>./BPPLIB/Scholl_CSP_dat/Scholl_1/N1C1W1_C.dat</td>\n",
       "      <td>1</td>\n",
       "      <td>20.0</td>\n",
       "    </tr>\n",
       "    <tr>\n",
       "      <th>8</th>\n",
       "      <td>./BPPLIB/Scholl_CSP_dat/Scholl_1/N1C1W1_I.dat</td>\n",
       "      <td>1</td>\n",
       "      <td>25.0</td>\n",
       "    </tr>\n",
       "    <tr>\n",
       "      <th>13</th>\n",
       "      <td>./BPPLIB/Scholl_CSP_dat/Scholl_1/N1C1W1_N.dat</td>\n",
       "      <td>1</td>\n",
       "      <td>25.0</td>\n",
       "    </tr>\n",
       "    <tr>\n",
       "      <th>20</th>\n",
       "      <td>./BPPLIB/Scholl_CSP_dat/Scholl_1/N1C1W2_A.dat</td>\n",
       "      <td>1</td>\n",
       "      <td>29.0</td>\n",
       "    </tr>\n",
       "    <tr>\n",
       "      <th>29</th>\n",
       "      <td>./BPPLIB/Scholl_CSP_dat/Scholl_1/N1C1W2_J.dat</td>\n",
       "      <td>1</td>\n",
       "      <td>34.0</td>\n",
       "    </tr>\n",
       "    <tr>\n",
       "      <th>...</th>\n",
       "      <td>...</td>\n",
       "      <td>...</td>\n",
       "      <td>...</td>\n",
       "    </tr>\n",
       "    <tr>\n",
       "      <th>1126</th>\n",
       "      <td>./BPPLIB/Scholl_CSP_dat/Scholl_2/N4W2B2R6.dat</td>\n",
       "      <td>1</td>\n",
       "      <td>103.0</td>\n",
       "    </tr>\n",
       "    <tr>\n",
       "      <th>1133</th>\n",
       "      <td>./BPPLIB/Scholl_CSP_dat/Scholl_2/N4W2B3R3.dat</td>\n",
       "      <td>1</td>\n",
       "      <td>100.0</td>\n",
       "    </tr>\n",
       "    <tr>\n",
       "      <th>1142</th>\n",
       "      <td>./BPPLIB/Scholl_CSP_dat/Scholl_2/N4W3B1R2.dat</td>\n",
       "      <td>1</td>\n",
       "      <td>71.0</td>\n",
       "    </tr>\n",
       "    <tr>\n",
       "      <th>1151</th>\n",
       "      <td>./BPPLIB/Scholl_CSP_dat/Scholl_2/N4W3B2R1.dat</td>\n",
       "      <td>1</td>\n",
       "      <td>71.0</td>\n",
       "    </tr>\n",
       "    <tr>\n",
       "      <th>1175</th>\n",
       "      <td>./BPPLIB/Scholl_CSP_dat/Scholl_2/N4W4B1R5.dat</td>\n",
       "      <td>1</td>\n",
       "      <td>56.0</td>\n",
       "    </tr>\n",
       "  </tbody>\n",
       "</table>\n",
       "<p>220 rows × 3 columns</p>\n",
       "</div>"
      ],
      "text/plain": [
       "                                           DataFile  Selected  Solution\n",
       "2     ./BPPLIB/Scholl_CSP_dat/Scholl_1/N1C1W1_C.dat         1      20.0\n",
       "8     ./BPPLIB/Scholl_CSP_dat/Scholl_1/N1C1W1_I.dat         1      25.0\n",
       "13    ./BPPLIB/Scholl_CSP_dat/Scholl_1/N1C1W1_N.dat         1      25.0\n",
       "20    ./BPPLIB/Scholl_CSP_dat/Scholl_1/N1C1W2_A.dat         1      29.0\n",
       "29    ./BPPLIB/Scholl_CSP_dat/Scholl_1/N1C1W2_J.dat         1      34.0\n",
       "...                                             ...       ...       ...\n",
       "1126  ./BPPLIB/Scholl_CSP_dat/Scholl_2/N4W2B2R6.dat         1     103.0\n",
       "1133  ./BPPLIB/Scholl_CSP_dat/Scholl_2/N4W2B3R3.dat         1     100.0\n",
       "1142  ./BPPLIB/Scholl_CSP_dat/Scholl_2/N4W3B1R2.dat         1      71.0\n",
       "1151  ./BPPLIB/Scholl_CSP_dat/Scholl_2/N4W3B2R1.dat         1      71.0\n",
       "1175  ./BPPLIB/Scholl_CSP_dat/Scholl_2/N4W4B1R5.dat         1      56.0\n",
       "\n",
       "[220 rows x 3 columns]"
      ]
     },
     "execution_count": 364,
     "metadata": {},
     "output_type": "execute_result"
    }
   ],
   "source": [
    "true_solutions_path = './BPPLIB/true-solutions/SCHOLL-SOLUTIONS.csv'\n",
    "true_solutions_df = format_true_solutions_df(true_solutions_path)\n",
    "true_solutions_df = drop_unused_problems(results_df, true_solutions_df)\n",
    "true_solutions_df"
   ]
  },
  {
   "cell_type": "code",
   "execution_count": 365,
   "metadata": {},
   "outputs": [],
   "source": [
    "merged_df = merge_df(results_df, true_solutions_df)"
   ]
  },
  {
   "cell_type": "markdown",
   "metadata": {},
   "source": [
    "# Comparison of results and true solutions\n",
    "\n",
    "Now we move on to comparing our obtained objective values (by solving CSPs' LP relaxations with column generation + an IP solution once no columns price out favourably to enter the solution basis) with the true known optimal solutions (perhaps by proper branch-and-price and other methods)."
   ]
  },
  {
   "cell_type": "code",
   "execution_count": 379,
   "metadata": {},
   "outputs": [],
   "source": [
    "def compute_errors(merged_df):\n",
    "    # This will always be positive, since it's a minimisation problem we are dealing with\n",
    "    merged_df['AbsError'] = merged_df['ResultObjective'] - merged_df['OptimalObjective']\n",
    "    merged_df['RelError'] = merged_df['AbsError'] / merged_df['OptimalObjective']\n",
    "\n",
    "def hist_relative_error(merged_df, bins=None):\n",
    "    # Plotting the histogram of relative errors\n",
    "    if bins is None:\n",
    "        plt.hist(merged_df['RelError'] * 100, alpha=1)\n",
    "    else:\n",
    "        plt.hist(merged_df['RelError'] * 100, bins=bins, alpha=1)\n",
    "    plt.title('Histogram of Relative Errors')\n",
    "    plt.xlabel('Relative Error (%)')\n",
    "    plt.ylabel('Frequency')\n",
    "    plt.show()\n",
    "\n",
    "def hist_absolute_error(merged_df, bins=None):\n",
    "    # Plotting the histogram of relative errors\n",
    "    if bins is None:\n",
    "        plt.hist(merged_df['AbsError'], alpha=1)\n",
    "    else:\n",
    "        plt.hist(merged_df['AbsError'], bins=bins, alpha=1)\n",
    "    plt.title('Histogram of Absolute Errors')\n",
    "    plt.xlabel('Absolute Error')\n",
    "    plt.ylabel('Frequency')\n",
    "    plt.show()\n",
    "\n",
    "def hist_error_compared(merged_df_scholl, absolute=False, save_pdf=False):\n",
    "    plt.figure(figsize=(page_width_in / 2, 3))\n",
    "\n",
    "    if 'Scholl_1' in merged_df_scholl['DataFile'].iloc[0]:\n",
    "        set_no = 1\n",
    "    else:\n",
    "        set_no = 2\n",
    "    \n",
    "    if absolute:\n",
    "        plt.hist(merged_df_scholl['AbsError'], alpha=0.7, edgecolor='black', color=oxford_blue_hex)\n",
    "        plt.title(f'Relative Error — Problem Set {set_no}')\n",
    "    else:\n",
    "        plt.hist(merged_df_scholl['RelError'] * 100, alpha=0.7, edgecolor='black', color=oxford_blue_hex)\n",
    "        plt.title(f'Relative Error — Problem Set {set_no}')\n",
    "\n",
    "    # Set axis labels for both subplots\n",
    "    plt.xlabel('Error (%)')\n",
    "    plt.ylabel('Frequency')\n",
    "    plt.grid(True)\n",
    "\n",
    "    plt.tight_layout()\n",
    "\n",
    "    if save_pdf:\n",
    "        if absolute:\n",
    "            plt.savefig('compare_absolute_err.pdf')\n",
    "        else:\n",
    "            plt.savefig('compare_relative_err.pdf')\n",
    "    plt.show()"
   ]
  },
  {
   "cell_type": "code",
   "execution_count": 380,
   "metadata": {},
   "outputs": [],
   "source": [
    "compute_errors(merged_df)\n",
    "merged_df_scholl_1 = merged_df[merged_df['DataFile'].str.contains('Scholl_1')]\n",
    "merged_df_scholl_2 = merged_df[merged_df['DataFile'].str.contains('Scholl_2')]"
   ]
  },
  {
   "cell_type": "code",
   "execution_count": 381,
   "metadata": {},
   "outputs": [
    {
     "name": "stdout",
     "output_type": "stream",
     "text": [
      "46.470588235294116\n",
      "79\n"
     ]
    }
   ],
   "source": [
    "# Large portion of these problems were optimally solved!\n",
    "print(merged_df_scholl_1[merged_df_scholl_1['AbsError'] == 0.0]['AbsError'].size / merged_df_scholl_1['DataFile'].size * 100)\n",
    "print(merged_df_scholl_1[merged_df_scholl_1['AbsError'] == 0.0]['AbsError'].size)\n"
   ]
  },
  {
   "cell_type": "code",
   "execution_count": 382,
   "metadata": {},
   "outputs": [
    {
     "name": "stdout",
     "output_type": "stream",
     "text": [
      "8.0\n",
      "4\n"
     ]
    }
   ],
   "source": [
    "# Not so much these though...\n",
    "print(merged_df_scholl_2[merged_df_scholl_2['AbsError'] == 0.0]['AbsError'].size / merged_df_scholl_2['DataFile'].size * 100)\n",
    "print(merged_df_scholl_2[merged_df_scholl_2['AbsError'] == 0.0]['AbsError'].size)"
   ]
  },
  {
   "cell_type": "code",
   "execution_count": 383,
   "metadata": {},
   "outputs": [
    {
     "data": {
      "text/html": [
       "<div>\n",
       "<style scoped>\n",
       "    .dataframe tbody tr th:only-of-type {\n",
       "        vertical-align: middle;\n",
       "    }\n",
       "\n",
       "    .dataframe tbody tr th {\n",
       "        vertical-align: top;\n",
       "    }\n",
       "\n",
       "    .dataframe thead th {\n",
       "        text-align: right;\n",
       "    }\n",
       "</style>\n",
       "<table border=\"1\" class=\"dataframe\">\n",
       "  <thead>\n",
       "    <tr style=\"text-align: right;\">\n",
       "      <th></th>\n",
       "      <th>DataFile</th>\n",
       "      <th>ResultObjective</th>\n",
       "      <th>Selected</th>\n",
       "      <th>OptimalObjective</th>\n",
       "      <th>AbsError</th>\n",
       "      <th>RelError</th>\n",
       "    </tr>\n",
       "  </thead>\n",
       "  <tbody>\n",
       "    <tr>\n",
       "      <th>219</th>\n",
       "      <td>./BPPLIB/Scholl_CSP_dat/Scholl_2/N2W4B3R3.dat</td>\n",
       "      <td>42.0</td>\n",
       "      <td>1</td>\n",
       "      <td>11.0</td>\n",
       "      <td>31.0</td>\n",
       "      <td>2.818182</td>\n",
       "    </tr>\n",
       "  </tbody>\n",
       "</table>\n",
       "</div>"
      ],
      "text/plain": [
       "                                          DataFile  ResultObjective  Selected  \\\n",
       "219  ./BPPLIB/Scholl_CSP_dat/Scholl_2/N2W4B3R3.dat             42.0         1   \n",
       "\n",
       "     OptimalObjective  AbsError  RelError  \n",
       "219              11.0      31.0  2.818182  "
      ]
     },
     "execution_count": 383,
     "metadata": {},
     "output_type": "execute_result"
    }
   ],
   "source": [
    "merged_df_scholl_2[merged_df_scholl_2['RelError'] > 2]"
   ]
  },
  {
   "cell_type": "code",
   "execution_count": 384,
   "metadata": {},
   "outputs": [
    {
     "data": {
      "image/png": "[encoded data removed]",
      "text/plain": [
       "<Figure size 300x300 with 1 Axes>"
      ]
     },
     "metadata": {},
     "output_type": "display_data"
    }
   ],
   "source": [
    "hist_error_compared(merged_df_scholl_1, absolute=False, save_pdf=True)\n"
   ]
  },
  {
   "cell_type": "code",
   "execution_count": null,
   "metadata": {},
   "outputs": [],
   "source": []
  },
  {
   "cell_type": "code",
   "execution_count": null,
   "metadata": {},
   "outputs": [],
   "source": []
  }
 ],
 "metadata": {
  "kernelspec": {
   "display_name": "myenv",
   "language": "python",
   "name": "python3"
  },
  "language_info": {
   "codemirror_mode": {
    "name": "ipython",
    "version": 3
   },
   "file_extension": ".py",
   "mimetype": "text/x-python",
   "name": "python",
   "nbconvert_exporter": "python",
   "pygments_lexer": "ipython3",
   "version": "3.9.6"
  }
 },
 "nbformat": 4,
 "nbformat_minor": 2
}
